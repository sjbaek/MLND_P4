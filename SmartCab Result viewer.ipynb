{
 "cells": [
  {
   "cell_type": "code",
   "execution_count": null,
   "metadata": {
    "collapsed": true
   },
   "outputs": [],
   "source": [
    "# This is a sample code to read csv created by smartcab script\n",
    "\n",
    "from itertools import groupby,islice\n",
    "import pandas as pd\n",
    "\n",
    "with open(\"file2.txt\") as f:\n",
    "    for k, v in groupby(islice(f, 3, None),key=lambda x:  x.strip()[0:1].isdigit()):\n",
    "        val = list(v)\n",
    "        if k:\n",
    "            df = pd.DataFrame(map(str.split,val))\n",
    "            print(df)\n",
    "            print(\"\"))\n",
    "        elif val[-1] == 'Top Total\\n':\n",
    "            break"
   ]
  }
 ],
 "metadata": {
  "kernelspec": {
   "display_name": "Python 2",
   "language": "python",
   "name": "python2"
  },
  "language_info": {
   "codemirror_mode": {
    "name": "ipython",
    "version": 2
   },
   "file_extension": ".py",
   "mimetype": "text/x-python",
   "name": "python",
   "nbconvert_exporter": "python",
   "pygments_lexer": "ipython2",
   "version": "2.7.11"
  }
 },
 "nbformat": 4,
 "nbformat_minor": 0
}
